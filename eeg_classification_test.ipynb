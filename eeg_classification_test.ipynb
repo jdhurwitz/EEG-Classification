{
 "cells": [
  {
   "cell_type": "code",
   "execution_count": 58,
   "metadata": {},
   "outputs": [],
   "source": [
    "import numpy as np\n",
    "import math\n",
    "import h5py\n",
    "from sklearn.model_selection import train_test_split\n",
    "from sklearn.neural_network import MLPClassifier\n",
    "\n",
    "from sklearn import metrics"
   ]
  },
  {
   "cell_type": "code",
   "execution_count": 59,
   "metadata": {
    "collapsed": true
   },
   "outputs": [],
   "source": [
    "A01T = h5py.File(\"project_datasets/A01T_slice.mat\", \"r\")\n",
    "X = np.copy(A01T[\"image\"])\n",
    "y = np.copy(A01T[\"type\"])\n",
    "image = A01T['image']\n",
    "y = y[0,0:image.shape[0]:1]\n",
    "y = np.asarray(y, dtype=np.int32)\n"
   ]
  },
  {
   "cell_type": "code",
   "execution_count": 60,
   "metadata": {},
   "outputs": [
    {
     "name": "stdout",
     "output_type": "stream",
     "text": [
      "(288, 25, 313)\n",
      "(288,)\n"
     ]
    },
    {
     "data": {
      "text/plain": [
       "'\\n 288 trials; each trial has corresponding EEG data from 25 \\n electrodes over 313 time bins\\n'"
      ]
     },
     "execution_count": 60,
     "metadata": {},
     "output_type": "execute_result"
    }
   ],
   "source": [
    "print(X.shape)\n",
    "print(y.shape)\n",
    "\n",
    "\"\"\"\n",
    " 288 trials; each trial has corresponding EEG data from 25 \n",
    " electrodes over 313 time bins\n",
    "\"\"\""
   ]
  },
  {
   "cell_type": "code",
   "execution_count": 61,
   "metadata": {},
   "outputs": [],
   "source": [
    "#Generate train test split\n",
    "X_train, X_test, y_train, y_test = train_test_split(X, y, test_size=0.2, random_state=42)"
   ]
  },
  {
   "cell_type": "code",
   "execution_count": 62,
   "metadata": {},
   "outputs": [
    {
     "name": "stdout",
     "output_type": "stream",
     "text": [
      "(230, 25, 313)\n",
      "(58, 25, 313)\n",
      "(230,)\n",
      "(58,)\n"
     ]
    }
   ],
   "source": [
    "print(X_train.shape)\n",
    "print(X_test.shape)\n",
    "\n",
    "print(y_train.shape)\n",
    "print(y_test.shape)"
   ]
  },
  {
   "cell_type": "code",
   "execution_count": 63,
   "metadata": {
    "collapsed": true
   },
   "outputs": [],
   "source": [
    "#remove NaNs\n",
    "def get_indices_to_remove(X):\n",
    "    indices_to_remove = set()\n",
    "    trial_nums, electrode_nums, timestamps = X.shape\n",
    "    for trial in range(trial_nums):\n",
    "        for electrode in range(electrode_nums):\n",
    "            for t in range(timestamps):\n",
    "                if(math.isnan(X[trial][electrode][t])):\n",
    "                    indices_to_remove.add(trial)\n",
    "            \n",
    "    return indices_to_remove"
   ]
  },
  {
   "cell_type": "code",
   "execution_count": 64,
   "metadata": {},
   "outputs": [
    {
     "name": "stdout",
     "output_type": "stream",
     "text": [
      "set()\n",
      "train indices []\n",
      "test indices [14]\n",
      "(230, 25, 313)\n",
      "(230,)\n",
      "(57, 25, 313)\n",
      "(57,)\n"
     ]
    }
   ],
   "source": [
    "#handle train sets\n",
    "indices_to_remove_train = list(get_indices_to_remove(X_train))\n",
    "print(get_indices_to_remove(X_train))\n",
    "print(\"train indices\", indices_to_remove_train)\n",
    "X_train = np.delete(X_train, indices_to_remove_train, axis=0)\n",
    "y_train = np.delete(y_train, indices_to_remove_train, axis=0)\n",
    "\n",
    "#handle test sets\n",
    "indices_to_remove_test = list(get_indices_to_remove(X_test))\n",
    "print(\"test indices\", indices_to_remove_test)\n",
    "X_test = np.delete(X_test, indices_to_remove_test, axis=0)\n",
    "y_test = np.delete(y_test, indices_to_remove_test, axis=0)\n",
    "\n",
    "print(X_train.shape)\n",
    "print(y_train.shape)\n",
    "\n",
    "print(X_test.shape)\n",
    "print(y_test.shape)"
   ]
  },
  {
   "cell_type": "code",
   "execution_count": 66,
   "metadata": {},
   "outputs": [],
   "source": [
    "nsamples, nx, ny = X_train.shape\n",
    "X_train_d2 = X_train.reshape((nsamples,nx*ny))\n",
    "\n",
    "\n",
    "nsamples, nx, ny = X_test.shape\n",
    "X_test_d2 = X_test.reshape((nsamples, nx*ny))\n",
    "\n"
   ]
  },
  {
   "cell_type": "markdown",
   "metadata": {},
   "source": [
    "# Random Classifier Baseline"
   ]
  },
  {
   "cell_type": "code",
   "execution_count": 75,
   "metadata": {},
   "outputs": [
    {
     "name": "stdout",
     "output_type": "stream",
     "text": [
      "Random classifier train F1:  0.24240313464\n",
      "Random classifier test F1:  0.20953886693\n"
     ]
    }
   ],
   "source": [
    "random_class_assignments_train = np.random.choice([769, 770, 771, 772], size=len(y_train))\n",
    "random_class_assignments_test = np.random.choice([769, 770, 771, 772], size=len(y_test))\n",
    "\n",
    "f1_train = metrics.f1_score(y_train, random_class_assignments_train, average='macro')\n",
    "f1_test = metrics.f1_score(y_test, random_class_assignments_test, average='macro')\n",
    "\n",
    "print(\"Random classifier train F1: \", f1_train)\n",
    "print(\"Random classifier test F1: \", f1_test)"
   ]
  },
  {
   "cell_type": "markdown",
   "metadata": {},
   "source": [
    "# Basic MLP Baseline"
   ]
  },
  {
   "cell_type": "code",
   "execution_count": 76,
   "metadata": {},
   "outputs": [
    {
     "data": {
      "text/plain": [
       "MLPClassifier(activation='relu', alpha=1e-05, batch_size='auto', beta_1=0.9,\n",
       "       beta_2=0.999, early_stopping=False, epsilon=1e-08,\n",
       "       hidden_layer_sizes=(100,), learning_rate='constant',\n",
       "       learning_rate_init=0.001, max_iter=300, momentum=0.9,\n",
       "       nesterovs_momentum=True, power_t=0.5, random_state=1, shuffle=True,\n",
       "       solver='adam', tol=0.0001, validation_fraction=0.1, verbose=False,\n",
       "       warm_start=False)"
      ]
     },
     "execution_count": 76,
     "metadata": {},
     "output_type": "execute_result"
    }
   ],
   "source": [
    "hidden_config = (100,)\n",
    "clf = MLPClassifier(activation='relu', alpha=1e-05, batch_size='auto',\n",
    "       beta_1=0.9, beta_2=0.999, early_stopping=False,\n",
    "       epsilon=1e-08, hidden_layer_sizes=hidden_config, learning_rate='constant',\n",
    "       learning_rate_init=0.001, max_iter=300, momentum=0.9,\n",
    "       nesterovs_momentum=True, power_t=0.5, random_state=1, shuffle=True,\n",
    "       solver='adam', tol=0.0001, validation_fraction=0.1, verbose=False,\n",
    "       warm_start=False)\n",
    "\n",
    "clf.fit(X_train_d2, y_train)"
   ]
  },
  {
   "cell_type": "code",
   "execution_count": 78,
   "metadata": {},
   "outputs": [
    {
     "name": "stdout",
     "output_type": "stream",
     "text": [
      "Dummy MLP F1-score:  0.412240537241\n"
     ]
    }
   ],
   "source": [
    "y_pred = clf.predict(X_test_d2)\n",
    "\n",
    "f1 = metrics.f1_score(y_test, y_pred, average='macro')\n",
    "print(\"Dummy MLP F1-score: \", f1)"
   ]
  },
  {
   "cell_type": "code",
   "execution_count": null,
   "metadata": {
    "collapsed": true
   },
   "outputs": [],
   "source": []
  }
 ],
 "metadata": {
  "kernelspec": {
   "display_name": "Python 3",
   "language": "python",
   "name": "python3"
  },
  "language_info": {
   "codemirror_mode": {
    "name": "ipython",
    "version": 3
   },
   "file_extension": ".py",
   "mimetype": "text/x-python",
   "name": "python",
   "nbconvert_exporter": "python",
   "pygments_lexer": "ipython3",
   "version": "3.6.3"
  }
 },
 "nbformat": 4,
 "nbformat_minor": 2
}
